{
 "cells": [
  {
   "cell_type": "markdown",
   "id": "f19c831f",
   "metadata": {},
   "source": [
    "\"Examenation\""
   ]
  },
  {
   "cell_type": "code",
   "execution_count": 4,
   "id": "458212ae",
   "metadata": {},
   "outputs": [
    {
     "name": "stderr",
     "output_type": "stream",
     "text": [
      "UsageError: Line magic function `%cmd` not found (But cell magic `%%cmd` exists, did you mean that instead?).\n"
     ]
    }
   ],
   "source": [
    "%cmd"
   ]
  }
 ],
 "metadata": {
  "kernelspec": {
   "display_name": "Python 3 (ipykernel)",
   "language": "python",
   "name": "python3"
  },
  "language_info": {
   "codemirror_mode": {
    "name": "ipython",
    "version": 3
   },
   "file_extension": ".py",
   "mimetype": "text/x-python",
   "name": "python",
   "nbconvert_exporter": "python",
   "pygments_lexer": "ipython3",
   "version": "3.10.9"
  }
 },
 "nbformat": 4,
 "nbformat_minor": 5
}
