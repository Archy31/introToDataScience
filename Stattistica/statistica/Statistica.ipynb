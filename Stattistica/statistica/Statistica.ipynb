{
 "cells": [
  {
   "cell_type": "code",
   "execution_count": 1,
   "metadata": {},
   "outputs": [],
   "source": [
    "import random\n",
    "from typing import List\n",
    "\n",
    "\n",
    "Vector = List[float]\n",
    "\n",
    "def sum_of_squares(vector: Vector)->Vector:\n",
    "    return sum(\n",
    "        [i*i for i in vector]\n",
    "        )\n",
    "\n",
    "def getVector(label_x=3, label_y=1, inInter=[1, 100], mode=True):\n",
    "        if mode:\n",
    "            ...\n",
    "        \n",
    "        else:\n",
    "            random.seed(mode)\n",
    "        \n",
    "        # assert label_x < label_y, \"label_x must be bigger than label_y*\"\n",
    "        rand_vector = [\n",
    "                [random.randint(*inInter)\n",
    "                 for row in range(label_x)]\n",
    "                for col in range(label_y)\n",
    "            ]\n",
    "        if label_y != 1:\n",
    "            return rand_vector\n",
    "\n",
    "        else:\n",
    "            return rand_vector[0]\n",
    "\n",
    "def main():\n",
    "     ...\n",
    "\n",
    "\n",
    "if __name__ == '__main__':\n",
    "     main()\n",
    "\n",
    "\n"
   ]
  }
 ],
 "metadata": {
  "kernelspec": {
   "display_name": "wdsfs",
   "language": "python",
   "name": "python3"
  },
  "language_info": {
   "codemirror_mode": {
    "name": "ipython",
    "version": 3
   },
   "file_extension": ".py",
   "mimetype": "text/x-python",
   "name": "python",
   "nbconvert_exporter": "python",
   "pygments_lexer": "ipython3",
   "version": "3.6.13"
  },
  "orig_nbformat": 4
 },
 "nbformat": 4,
 "nbformat_minor": 2
}
