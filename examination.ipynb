{
 "cells": [
  {
   "cell_type": "markdown",
   "id": "ec6befab",
   "metadata": {},
   "source": [
    "# Matplotlib"
   ]
  },
  {
   "cell_type": "code",
   "execution_count": null,
   "id": "64b6d538",
   "metadata": {},
   "outputs": [],
   "source": [
    "import matplotlib.pyplot as plt\n",
    "import random\n",
    "from pprint import pprint\n",
    "\n",
    "from typing import Dict"
   ]
  },
  {
   "cell_type": "code",
   "execution_count": null,
   "id": "47e97a2a",
   "metadata": {},
   "outputs": [],
   "source": [
    "class MPL:\n",
    "    def __init__(self):\n",
    "        self.xrand = [random.randint(10, 100000) for _ in range(1000)]\n",
    "        self.yrand = [random.randint(10, 100000) for _ in range(1000)]\n",
    "        \n",
    "        x = [i for i in range(100000)]\n",
    "        \n",
    "        self.x = x\n",
    "        random.shuffle(x)\n",
    "        self.y = x\n",
    "        \n",
    "class PlotMPL(MPL):\n",
    "    def __init__(self):\n",
    "        super().__init__()\n",
    "        \n",
    "    def createPLOT(self):\n",
    "        plt.plot(self.xrand, self.yrand, 'r-', label='red')\n",
    "        plt.plot(self.x, self.y, 'b_', label='blue')\n",
    "        plt.legend(loc=1)\n",
    "        plt.title('Correlation of random numbers')\n",
    "        plt.axis('equal')\n",
    "        plt.xlabel('X axis')\n",
    "        plt.ylabel('Y axis')\n",
    "        \n",
    "        plt.show()\n",
    "    \n",
    "class ScatterMPL(MPL):\n",
    "    def __init__(self):\n",
    "        super().__init__()\n",
    "    \n",
    "    @staticmethod\n",
    "    def getseg(l: list, start, step)-> list:\n",
    "        seg = [i for i in range(start, start + step)]\n",
    "        res = [i for i in l if i in seg]\n",
    "        \n",
    "        return res\n",
    "    \n",
    "    def getMid(self, z: list):\n",
    "        seg = self.getseg(z, 0, 10)\n",
    "        return sum(seg)/len(seg)\n",
    "    \n",
    "    def createSCATTER(self):\n",
    "        plt.scatter(self.xrand, self.yrand, label='blue')\n",
    "#         random.shuffle(self.xrand)\n",
    "#         random.shuffle(self.yrand)\n",
    "#         plt.scatter(self.xrand, self.yrand, label='green')\n",
    "#         random.shuffle(self.xrand)\n",
    "#         random.shuffle(self.yrand)\n",
    "#         plt.scatter(self.xrand, self.yrand, label='green')\n",
    "\n",
    "        plt.plot(self.x, self.y, 'r_')\n",
    "        \n",
    "        plt.axis([-10000, 120000, -10000, 120000])\n",
    "        \n",
    "        plt.show()\n",
    "        \n",
    "        \n",
    "def main():\n",
    "    ScatterMPL().createSCATTER()\n",
    "    \n",
    "if __name__ == '__main__':\n",
    "    main()\n",
    "    "
   ]
  },
  {
   "cell_type": "code",
   "execution_count": 12,
   "id": "b9be8ebd",
   "metadata": {},
   "outputs": [
    {
     "data": {
      "image/png": "[encoded data removed]",
      "text/plain": [
       "<Figure size 432x288 with 1 Axes>"
      ]
     },
     "metadata": {
      "needs_background": "light"
     },
     "output_type": "display_data"
    }
   ],
   "source": [
    "x = [\n",
    "    random.randint(1, 30) for i in range(10)\n",
    "]\n",
    "\n",
    "y = [i for i in range(10)]\n",
    "\n",
    "plt.plot(x, y, color='blue')\n",
    "\n",
    "plt.show()"
   ]
  }
 ],
 "metadata": {
  "kernelspec": {
   "display_name": "Python 3",
   "language": "python",
   "name": "python3"
  },
  "language_info": {
   "codemirror_mode": {
    "name": "ipython",
    "version": 3
   },
   "file_extension": ".py",
   "mimetype": "text/x-python",
   "name": "python",
   "nbconvert_exporter": "python",
   "pygments_lexer": "ipython3",
   "version": "3.6.13"
  }
 },
 "nbformat": 4,
 "nbformat_minor": 5
}
